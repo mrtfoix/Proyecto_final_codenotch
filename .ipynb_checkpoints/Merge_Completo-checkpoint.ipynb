{
 "cells": [
  {
   "cell_type": "code",
   "execution_count": 2,
   "id": "7a5f12ad",
   "metadata": {},
   "outputs": [
    {
     "name": "stdout",
     "output_type": "stream",
     "text": [
      "\n",
      "Primeros registros de hotel_bookings:\n",
      "          hotel  is_canceled  lead_time  stays_in_weekend_nights  \\\n",
      "0  Resort Hotel            0        342                        0   \n",
      "1  Resort Hotel            0        737                        0   \n",
      "2  Resort Hotel            0          7                        0   \n",
      "3  Resort Hotel            0         13                        0   \n",
      "4  Resort Hotel            0         14                        0   \n",
      "\n",
      "   stays_in_week_nights  adults  children  babies meal country  ...  \\\n",
      "0                     0       2       0.0       0   BB     PRT  ...   \n",
      "1                     0       2       0.0       0   BB     PRT  ...   \n",
      "2                     1       1       0.0       0   BB     GBR  ...   \n",
      "3                     1       1       0.0       0   BB     GBR  ...   \n",
      "4                     2       2       0.0       0   BB     GBR  ...   \n",
      "\n",
      "  is_repeated_guest previous_cancellations  previous_bookings_not_canceled  \\\n",
      "0                 0                      0                               0   \n",
      "1                 0                      0                               0   \n",
      "2                 0                      0                               0   \n",
      "3                 0                      0                               0   \n",
      "4                 0                      0                               0   \n",
      "\n",
      "   booking_changes  deposit_type  days_in_waiting_list customer_type  \\\n",
      "0                3    No Deposit                     0     Transient   \n",
      "1                4    No Deposit                     0     Transient   \n",
      "2                0    No Deposit                     0     Transient   \n",
      "3                0    No Deposit                     0     Transient   \n",
      "4                0    No Deposit                     0     Transient   \n",
      "\n",
      "   total_of_special_requests reservation_status_date  arrival_date  \n",
      "0                          0              2015-07-01    2015-07-01  \n",
      "1                          0              2015-07-01    2015-07-01  \n",
      "2                          0              2015-07-02    2015-07-01  \n",
      "3                          0              2015-07-02    2015-07-01  \n",
      "4                          1              2015-07-03    2015-07-01  \n",
      "\n",
      "[5 rows x 22 columns]\n"
     ]
    }
   ],
   "source": [
    "import pandas as pd\n",
    "\n",
    "df_hoteles_clean = pd.read_csv('Data/hotel_bookings_clean.csv')\n",
    "\n",
    "print(\"\\nPrimeros registros de hotel_bookings:\")\n",
    "print(df_hoteles_clean.head())\n"
   ]
  },
  {
   "cell_type": "code",
   "execution_count": 3,
   "id": "f845d7e8",
   "metadata": {},
   "outputs": [
    {
     "name": "stdout",
     "output_type": "stream",
     "text": [
      "\n",
      "Primeros registros de meteo_algarve:\n",
      "          hotel arrival_date  tempmax  tempmin  temp  precip  precipprob  \\\n",
      "0  Resort Hotel   2015-07-01     24.8     17.2  21.2     0.0           0   \n",
      "1  Resort Hotel   2015-07-02     27.6     17.9  23.0     0.0           0   \n",
      "2  Resort Hotel   2015-07-03     26.9     19.0  23.7     0.0           0   \n",
      "3  Resort Hotel   2015-07-04     29.0     18.9  24.5     0.0           0   \n",
      "4  Resort Hotel   2015-07-05     29.4     24.8  27.0     0.0           0   \n",
      "\n",
      "   windgust  windspeed        conditions  cloudcover  \n",
      "0      54.0       38.3  Partially cloudy        35.6  \n",
      "1      39.6       25.6             Clear         3.1  \n",
      "2      32.4       24.6             Clear         0.0  \n",
      "3      28.8       19.3             Clear        11.4  \n",
      "4      25.2       21.0             Clear        12.9  \n"
     ]
    },
    {
     "data": {
      "text/plain": [
       "(793, 11)"
      ]
     },
     "execution_count": 3,
     "metadata": {},
     "output_type": "execute_result"
    }
   ],
   "source": [
    "df_algarve_clean = pd.read_csv('Data/meteo_algarve_clean.csv')\n",
    "\n",
    "df_algarve_clean = df_algarve_clean.rename(columns={'datetime': 'arrival_date'})\n",
    "\n",
    "print(\"\\nPrimeros registros de meteo_algarve:\")\n",
    "print(df_algarve_clean.head())\n",
    "\n",
    "df_algarve_clean.shape"
   ]
  },
  {
   "cell_type": "code",
   "execution_count": 4,
   "id": "1eb9f6a8",
   "metadata": {},
   "outputs": [
    {
     "name": "stdout",
     "output_type": "stream",
     "text": [
      "Primeros registros de meteo_lisboa:\n",
      "        hotel arrival_date  tempmax  tempmin  temp  precip  precipprob  \\\n",
      "0  City Hotel   2015-07-01     23.8     17.4  19.8   2.986         100   \n",
      "1  City Hotel   2015-07-02     26.2     16.0  20.6   0.000           0   \n",
      "2  City Hotel   2015-07-03     26.0     16.1  20.9   0.000           0   \n",
      "3  City Hotel   2015-07-04     29.2     18.9  22.7   0.000           0   \n",
      "4  City Hotel   2015-07-05     27.4     17.8  21.8   0.000           0   \n",
      "\n",
      "   windgust  windspeed              conditions  cloudcover  \n",
      "0      32.4       21.7  Rain, Partially cloudy        52.2  \n",
      "1      28.8       21.5        Partially cloudy        27.1  \n",
      "2       0.0       24.4                   Clear         8.3  \n",
      "3      32.4       21.7        Partially cloudy        38.7  \n",
      "4      36.0       27.8        Partially cloudy        43.9  \n"
     ]
    },
    {
     "data": {
      "text/plain": [
       "(793, 11)"
      ]
     },
     "execution_count": 4,
     "metadata": {},
     "output_type": "execute_result"
    }
   ],
   "source": [
    "df_lisboa_clean = pd.read_csv('Data/meteo_lisboa_clean.csv')\n",
    "\n",
    "df_lisboa_clean = df_lisboa_clean.rename(columns={'datetime': 'arrival_date'})\n",
    "\n",
    "print(\"Primeros registros de meteo_lisboa:\")\n",
    "print(df_lisboa_clean.head())\n",
    "\n",
    "df_lisboa_clean.shape"
   ]
  },
  {
   "cell_type": "code",
   "execution_count": 5,
   "id": "783a772f",
   "metadata": {},
   "outputs": [
    {
     "name": "stdout",
     "output_type": "stream",
     "text": [
      "        hotel arrival_date  tempmax  tempmin  temp  precip  precipprob  \\\n",
      "0  City Hotel   2015-07-01     23.8     17.4  19.8   2.986         100   \n",
      "1  City Hotel   2015-07-02     26.2     16.0  20.6   0.000           0   \n",
      "2  City Hotel   2015-07-03     26.0     16.1  20.9   0.000           0   \n",
      "3  City Hotel   2015-07-04     29.2     18.9  22.7   0.000           0   \n",
      "4  City Hotel   2015-07-05     27.4     17.8  21.8   0.000           0   \n",
      "\n",
      "   windgust  windspeed              conditions  cloudcover  \n",
      "0      32.4       21.7  Rain, Partially cloudy        52.2  \n",
      "1      28.8       21.5        Partially cloudy        27.1  \n",
      "2       0.0       24.4                   Clear         8.3  \n",
      "3      32.4       21.7        Partially cloudy        38.7  \n",
      "4      36.0       27.8        Partially cloudy        43.9  \n",
      "(1586, 11)\n"
     ]
    }
   ],
   "source": [
    "df_merged_meteo = pd.merge(df_lisboa_clean, df_algarve_clean, on=['hotel', 'arrival_date', 'tempmax', 'tempmin', 'temp', 'precip', 'precipprob', 'windgust', 'windspeed', 'cloudcover', 'conditions'], how='outer')\n",
    "\n",
    "print(df_merged_meteo.head())\n",
    "print(df_merged_meteo.shape)"
   ]
  },
  {
   "cell_type": "code",
   "execution_count": 6,
   "id": "fc9bc65a",
   "metadata": {},
   "outputs": [
    {
     "name": "stdout",
     "output_type": "stream",
     "text": [
      "          hotel  is_canceled  lead_time  stays_in_weekend_nights  \\\n",
      "0  Resort Hotel            0        342                        0   \n",
      "1  Resort Hotel            0        737                        0   \n",
      "2  Resort Hotel            0          7                        0   \n",
      "3  Resort Hotel            0         13                        0   \n",
      "4  Resort Hotel            0         14                        0   \n",
      "\n",
      "   stays_in_week_nights  adults  children  babies meal country  ...  \\\n",
      "0                     0       2       0.0       0   BB     PRT  ...   \n",
      "1                     0       2       0.0       0   BB     PRT  ...   \n",
      "2                     1       1       0.0       0   BB     GBR  ...   \n",
      "3                     1       1       0.0       0   BB     GBR  ...   \n",
      "4                     2       2       0.0       0   BB     GBR  ...   \n",
      "\n",
      "  arrival_date tempmax  tempmin  temp  precip  precipprob windgust  windspeed  \\\n",
      "0   2015-07-01    24.8     17.2  21.2     0.0           0     54.0       38.3   \n",
      "1   2015-07-01    24.8     17.2  21.2     0.0           0     54.0       38.3   \n",
      "2   2015-07-01    24.8     17.2  21.2     0.0           0     54.0       38.3   \n",
      "3   2015-07-01    24.8     17.2  21.2     0.0           0     54.0       38.3   \n",
      "4   2015-07-01    24.8     17.2  21.2     0.0           0     54.0       38.3   \n",
      "\n",
      "         conditions  cloudcover  \n",
      "0  Partially cloudy        35.6  \n",
      "1  Partially cloudy        35.6  \n",
      "2  Partially cloudy        35.6  \n",
      "3  Partially cloudy        35.6  \n",
      "4  Partially cloudy        35.6  \n",
      "\n",
      "[5 rows x 31 columns]\n"
     ]
    },
    {
     "data": {
      "text/plain": [
       "(118898, 31)"
      ]
     },
     "execution_count": 6,
     "metadata": {},
     "output_type": "execute_result"
    }
   ],
   "source": [
    "df_merged_completo = pd.merge(df_hoteles_clean, df_merged_meteo, on=['hotel', 'arrival_date'], how='outer')\n",
    "\n",
    "print(df_merged_completo.head())\n",
    "\n",
    "df_merged_completo.shape\n"
   ]
  },
  {
   "cell_type": "code",
   "execution_count": 7,
   "id": "fce640d9",
   "metadata": {},
   "outputs": [
    {
     "data": {
      "text/plain": [
       "hotel                                 Resort Hotel\n",
       "is_canceled                                      0\n",
       "lead_time                                        7\n",
       "stays_in_weekend_nights                          0\n",
       "stays_in_week_nights                             1\n",
       "adults                                           1\n",
       "children                                       0.0\n",
       "babies                                           0\n",
       "meal                                            BB\n",
       "country                                        GBR\n",
       "market_segment                              Direct\n",
       "distribution_channel                        Direct\n",
       "is_repeated_guest                                0\n",
       "previous_cancellations                           0\n",
       "previous_bookings_not_canceled                   0\n",
       "booking_changes                                  0\n",
       "deposit_type                            No Deposit\n",
       "days_in_waiting_list                             0\n",
       "customer_type                            Transient\n",
       "total_of_special_requests                        0\n",
       "reservation_status_date                 2015-07-02\n",
       "arrival_date                            2015-07-01\n",
       "tempmax                                       24.8\n",
       "tempmin                                       17.2\n",
       "temp                                          21.2\n",
       "precip                                         0.0\n",
       "precipprob                                       0\n",
       "windgust                                      54.0\n",
       "windspeed                                     38.3\n",
       "conditions                        Partially cloudy\n",
       "cloudcover                                    35.6\n",
       "Name: 2, dtype: object"
      ]
     },
     "execution_count": 7,
     "metadata": {},
     "output_type": "execute_result"
    }
   ],
   "source": [
    "df_merged_completo.iloc[2]"
   ]
  },
  {
   "cell_type": "code",
   "execution_count": null,
   "id": "e7aad0bb",
   "metadata": {},
   "outputs": [],
   "source": []
  }
 ],
 "metadata": {
  "kernelspec": {
   "display_name": "Python 3 (ipykernel)",
   "language": "python",
   "name": "python3"
  },
  "language_info": {
   "codemirror_mode": {
    "name": "ipython",
    "version": 3
   },
   "file_extension": ".py",
   "mimetype": "text/x-python",
   "name": "python",
   "nbconvert_exporter": "python",
   "pygments_lexer": "ipython3",
   "version": "3.11.4"
  }
 },
 "nbformat": 4,
 "nbformat_minor": 5
}
