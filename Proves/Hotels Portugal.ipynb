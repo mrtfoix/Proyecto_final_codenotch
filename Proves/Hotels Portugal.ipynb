{
 "cells": [
  {
   "cell_type": "code",
   "execution_count": 2,
   "id": "ce392183",
   "metadata": {},
   "outputs": [],
   "source": [
    "import pandas as pd"
   ]
  },
  {
   "cell_type": "code",
   "execution_count": 19,
   "id": "43b0b6dd",
   "metadata": {},
   "outputs": [
    {
     "name": "stdout",
     "output_type": "stream",
     "text": [
      "<class 'pandas.core.frame.DataFrame'>\n",
      "RangeIndex: 119390 entries, 0 to 119389\n",
      "Data columns (total 32 columns):\n",
      " #   Column                          Non-Null Count   Dtype  \n",
      "---  ------                          --------------   -----  \n",
      " 0   hotel                           119390 non-null  object \n",
      " 1   is_canceled                     119390 non-null  int64  \n",
      " 2   lead_time                       119390 non-null  int64  \n",
      " 3   arrival_date_year               119390 non-null  int64  \n",
      " 4   arrival_date_month              119390 non-null  object \n",
      " 5   arrival_date_week_number        119390 non-null  int64  \n",
      " 6   arrival_date_day_of_month       119390 non-null  int64  \n",
      " 7   stays_in_weekend_nights         119390 non-null  int64  \n",
      " 8   stays_in_week_nights            119390 non-null  int64  \n",
      " 9   adults                          119390 non-null  int64  \n",
      " 10  children                        119386 non-null  float64\n",
      " 11  babies                          119390 non-null  int64  \n",
      " 12  meal                            119390 non-null  object \n",
      " 13  country                         118902 non-null  object \n",
      " 14  market_segment                  119390 non-null  object \n",
      " 15  distribution_channel            119390 non-null  object \n",
      " 16  is_repeated_guest               119390 non-null  int64  \n",
      " 17  previous_cancellations          119390 non-null  int64  \n",
      " 18  previous_bookings_not_canceled  119390 non-null  int64  \n",
      " 19  reserved_room_type              119390 non-null  object \n",
      " 20  assigned_room_type              119390 non-null  object \n",
      " 21  booking_changes                 119390 non-null  int64  \n",
      " 22  deposit_type                    119390 non-null  object \n",
      " 23  agent                           103050 non-null  float64\n",
      " 24  company                         6797 non-null    float64\n",
      " 25  days_in_waiting_list            119390 non-null  int64  \n",
      " 26  customer_type                   119390 non-null  object \n",
      " 27  adr                             119390 non-null  float64\n",
      " 28  required_car_parking_spaces     119390 non-null  int64  \n",
      " 29  total_of_special_requests       119390 non-null  int64  \n",
      " 30  reservation_status              119390 non-null  object \n",
      " 31  reservation_status_date         119390 non-null  object \n",
      "dtypes: float64(4), int64(16), object(12)\n",
      "memory usage: 29.1+ MB\n"
     ]
    }
   ],
   "source": [
    "df = pd.read_csv(\"../Data/hotel_bookings.csv\")\n",
    "df.info()"
   ]
  },
  {
   "cell_type": "code",
   "execution_count": 35,
   "id": "a130bf0e",
   "metadata": {},
   "outputs": [
    {
     "name": "stdout",
     "output_type": "stream",
     "text": [
      "PRY\n",
      "BRB\n",
      "GTM\n",
      "UZB\n",
      "MCO\n",
      "GAB\n",
      "GHA\n",
      "ZWE\n",
      "ETH\n",
      "TMP\n",
      "LIE\n",
      "GGY\n",
      "SYR\n",
      "BEN\n",
      "GLP\n",
      "SLV\n",
      "ATA\n",
      "MYT\n",
      "ABW\n",
      "KHM\n",
      "LAO\n",
      "STP\n",
      "ZMB\n",
      "MWI\n",
      "IMN\n",
      "COM\n",
      "TGO\n",
      "UGA\n",
      "KNA\n",
      "RWA\n",
      "SYC\n",
      "KIR\n",
      "SDN\n",
      "NCL\n",
      "AIA\n",
      "ASM\n",
      "FJI\n",
      "ATF\n",
      "LCA\n",
      "GUY\n",
      "PYF\n",
      "DMA\n",
      "SLE\n",
      "MRT\n",
      "NIC\n",
      "BDI\n",
      "PLW\n",
      "MLI\n",
      "CYM\n",
      "BFA\n",
      "MDG\n",
      "MMR\n",
      "NPL\n",
      "BHS\n",
      "UMI\n",
      "SMR\n",
      "DJI\n",
      "BWA\n",
      "HND\n",
      "VGB\n",
      "NAM\n"
     ]
    }
   ],
   "source": [
    "recompte = df['country'].value_counts()\n",
    "paisos_1_cop = recompte[recompte < 5].index.to_list()\n",
    "for pais in paisos_1_cop:\n",
    "    print(pais)"
   ]
  },
  {
   "cell_type": "code",
   "execution_count": 13,
   "id": "5b1bba05",
   "metadata": {},
   "outputs": [
    {
     "data": {
      "text/plain": [
       "hotel                                  0\n",
       "is_canceled                            0\n",
       "lead_time                              0\n",
       "arrival_date_year                      0\n",
       "arrival_date_month                     0\n",
       "arrival_date_week_number               0\n",
       "arrival_date_day_of_month              0\n",
       "stays_in_weekend_nights                0\n",
       "stays_in_week_nights                   0\n",
       "adults                                 0\n",
       "children                               4\n",
       "babies                                 0\n",
       "meal                                   0\n",
       "country                              488\n",
       "market_segment                         0\n",
       "distribution_channel                   0\n",
       "is_repeated_guest                      0\n",
       "previous_cancellations                 0\n",
       "previous_bookings_not_canceled         0\n",
       "reserved_room_type                     0\n",
       "assigned_room_type                     0\n",
       "booking_changes                        0\n",
       "deposit_type                           0\n",
       "agent                              16340\n",
       "company                           112593\n",
       "days_in_waiting_list                   0\n",
       "customer_type                          0\n",
       "adr                                    0\n",
       "required_car_parking_spaces            0\n",
       "total_of_special_requests              0\n",
       "reservation_status                     0\n",
       "reservation_status_date                0\n",
       "dtype: int64"
      ]
     },
     "execution_count": 13,
     "metadata": {},
     "output_type": "execute_result"
    }
   ],
   "source": [
    "df.isna().sum()"
   ]
  },
  {
   "cell_type": "code",
   "execution_count": 6,
   "id": "c20d6699",
   "metadata": {},
   "outputs": [],
   "source": [
    "df.sample(1000).to_csv(\"../Data/reservas_original_sample.csv\")"
   ]
  },
  {
   "cell_type": "code",
   "execution_count": 41,
   "id": "4c105c43",
   "metadata": {},
   "outputs": [
    {
     "data": {
      "text/plain": [
       "32.4    63\n",
       "28.8    44\n",
       "21.6    40\n",
       "39.6    39\n",
       "25.2    34\n",
       "36.0    34\n",
       "43.2    33\n",
       "46.8    20\n",
       "18.0    19\n",
       "50.4    18\n",
       "57.6    14\n",
       "54.0     8\n",
       "40.7     7\n",
       "51.8     7\n",
       "44.6     6\n",
       "61.2     5\n",
       "31.7     5\n",
       "33.5     4\n",
       "42.5     4\n",
       "29.5     4\n",
       "50.0     4\n",
       "38.9     3\n",
       "46.4     3\n",
       "72.0     3\n",
       "27.7     3\n",
       "55.4     2\n",
       "37.1     2\n",
       "59.4     2\n",
       "63.0     2\n",
       "48.2     1\n",
       "66.6     1\n",
       "82.8     1\n",
       "68.4     1\n",
       "25.9     1\n",
       "74.2     1\n",
       "62.9     1\n",
       "64.8     1\n",
       "44.9     1\n",
       "46.6     1\n",
       "34.8     1\n",
       "93.6     1\n",
       "49.4     1\n",
       "75.6     1\n",
       "83.2     1\n",
       "86.4     1\n",
       "66.5     1\n",
       "79.2     1\n",
       "56.8     1\n",
       "53.6     1\n",
       "Name: windgust, dtype: int64"
      ]
     },
     "execution_count": 41,
     "metadata": {},
     "output_type": "execute_result"
    }
   ],
   "source": [
    "df['windgust'].value_counts()"
   ]
  },
  {
   "cell_type": "code",
   "execution_count": 29,
   "id": "7463896c",
   "metadata": {},
   "outputs": [],
   "source": [
    "df = pd.read_csv(\"../Data/Datostiempoalgarve.csv\")"
   ]
  },
  {
   "cell_type": "code",
   "execution_count": 40,
   "id": "91dd9c9c",
   "metadata": {},
   "outputs": [
    {
     "data": {
      "text/plain": [
       "341"
      ]
     },
     "execution_count": 40,
     "metadata": {},
     "output_type": "execute_result"
    }
   ],
   "source": [
    "df['windgust'].isna().sum()"
   ]
  },
  {
   "cell_type": "code",
   "execution_count": 37,
   "id": "5951b0b8",
   "metadata": {},
   "outputs": [
    {
     "data": {
      "text/plain": [
       "Index(['name', 'datetime', 'tempmax', 'tempmin', 'temp', 'feelslikemax',\n",
       "       'feelslikemin', 'feelslike', 'dew', 'humidity', 'precip', 'precipprob',\n",
       "       'precipcover', 'preciptype', 'snow', 'snowdepth', 'windgust',\n",
       "       'windspeed', 'winddir', 'sealevelpressure', 'cloudcover', 'visibility',\n",
       "       'solarradiation', 'solarenergy', 'uvindex', 'severerisk', 'sunrise',\n",
       "       'sunset', 'moonphase', 'conditions', 'description', 'icon', 'stations'],\n",
       "      dtype='object')"
      ]
     },
     "execution_count": 37,
     "metadata": {},
     "output_type": "execute_result"
    }
   ],
   "source": [
    "df.columns"
   ]
  },
  {
   "cell_type": "code",
   "execution_count": 47,
   "id": "e885c36a",
   "metadata": {},
   "outputs": [
    {
     "data": {
      "text/plain": [
       "0.000    631\n",
       "0.100     14\n",
       "0.300     10\n",
       "0.016      5\n",
       "0.400      4\n",
       "        ... \n",
       "3.400      1\n",
       "5.500      1\n",
       "1.200      1\n",
       "3.200      1\n",
       "0.683      1\n",
       "Name: precip, Length: 119, dtype: int64"
      ]
     },
     "execution_count": 47,
     "metadata": {},
     "output_type": "execute_result"
    }
   ],
   "source": [
    "df[\"precip\"].value_counts()"
   ]
  },
  {
   "cell_type": "code",
   "execution_count": null,
   "id": "4591bdae",
   "metadata": {},
   "outputs": [],
   "source": []
  },
  {
   "cell_type": "code",
   "execution_count": null,
   "id": "e768d2b7",
   "metadata": {},
   "outputs": [],
   "source": []
  },
  {
   "cell_type": "code",
   "execution_count": null,
   "id": "c6ed2f05",
   "metadata": {},
   "outputs": [],
   "source": []
  },
  {
   "cell_type": "code",
   "execution_count": null,
   "id": "cf7ee2c3",
   "metadata": {},
   "outputs": [],
   "source": []
  },
  {
   "cell_type": "code",
   "execution_count": null,
   "id": "1847e050",
   "metadata": {},
   "outputs": [],
   "source": []
  },
  {
   "cell_type": "code",
   "execution_count": null,
   "id": "746a8171",
   "metadata": {},
   "outputs": [],
   "source": []
  },
  {
   "cell_type": "code",
   "execution_count": null,
   "id": "43868928",
   "metadata": {},
   "outputs": [],
   "source": []
  }
 ],
 "metadata": {
  "kernelspec": {
   "display_name": "Python 3 (ipykernel)",
   "language": "python",
   "name": "python3"
  },
  "language_info": {
   "codemirror_mode": {
    "name": "ipython",
    "version": 3
   },
   "file_extension": ".py",
   "mimetype": "text/x-python",
   "name": "python",
   "nbconvert_exporter": "python",
   "pygments_lexer": "ipython3",
   "version": "3.11.4"
  }
 },
 "nbformat": 4,
 "nbformat_minor": 5
}
