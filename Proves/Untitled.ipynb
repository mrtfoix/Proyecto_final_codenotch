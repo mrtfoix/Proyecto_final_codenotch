{
 "cells": [
  {
   "cell_type": "code",
   "execution_count": 7,
   "id": "9c0e99c8",
   "metadata": {},
   "outputs": [],
   "source": [
    "import requests"
   ]
  },
  {
   "cell_type": "code",
   "execution_count": 10,
   "id": "7952fe80",
   "metadata": {},
   "outputs": [],
   "source": [
    "url = \"https://timetable-lookup.p.rapidapi.com/codes/entertainment/\"\n",
    "params = {\"access_key\": \"8ef239e725msh1b79761d129de6bp17606ejsn5d7fe6e3a2c4\"}"
   ]
  },
  {
   "cell_type": "code",
   "execution_count": 11,
   "id": "28d44b75",
   "metadata": {},
   "outputs": [
    {
     "data": {
      "text/plain": [
       "401"
      ]
     },
     "execution_count": 11,
     "metadata": {},
     "output_type": "execute_result"
    }
   ],
   "source": [
    "response = requests.get(url, params)\n",
    "response.status_code "
   ]
  },
  {
   "cell_type": "code",
   "execution_count": 23,
   "id": "30399967",
   "metadata": {},
   "outputs": [
    {
     "data": {
      "text/plain": [
       "403"
      ]
     },
     "execution_count": 23,
     "metadata": {},
     "output_type": "execute_result"
    }
   ],
   "source": [
    "import requests\n",
    "\n",
    "url = \"https://adsbexchange-com1.p.rapidapi.com/v2/registration/N8737L/\"\n",
    "\n",
    "headers = {\n",
    "    \"X-RapidAPI-Key\": \"8ef239e725msh1b79761d129de6bp17606ejsn5d7fe6e3a2c4\",\n",
    "    \"X-RapidAPI-Host\": \"adsbexchange-com1.p.rapidapi.com\"\n",
    "}\n",
    "\n",
    "response = requests.get(url, headers=headers)\n",
    "\n",
    "\n",
    "response.status_code"
   ]
  },
  {
   "cell_type": "code",
   "execution_count": 24,
   "id": "1b9e53da",
   "metadata": {},
   "outputs": [
    {
     "data": {
      "text/plain": [
       "{'message': 'You are not subscribed to this API.'}"
      ]
     },
     "execution_count": 24,
     "metadata": {},
     "output_type": "execute_result"
    }
   ],
   "source": [
    "response.json()"
   ]
  },
  {
   "cell_type": "code",
   "execution_count": 30,
   "id": "5b87cd34",
   "metadata": {},
   "outputs": [
    {
     "data": {
      "text/plain": [
       "403"
      ]
     },
     "execution_count": 30,
     "metadata": {},
     "output_type": "execute_result"
    }
   ],
   "source": [
    "import requests\n",
    "\n",
    "params = {\n",
    "  'access_key': '00f204cc90f481d08710da08fa5c705e'\n",
    "}\n",
    "\n",
    "api_result = requests.get('https://api.aviationstack.com/v1/flights', params)\n",
    "api_result.status_code\n"
   ]
  },
  {
   "cell_type": "code",
   "execution_count": 31,
   "id": "4fdda4dc",
   "metadata": {},
   "outputs": [
    {
     "ename": "KeyError",
     "evalue": "'results'",
     "output_type": "error",
     "traceback": [
      "\u001b[1;31m---------------------------------------------------------------------------\u001b[0m",
      "\u001b[1;31mKeyError\u001b[0m                                  Traceback (most recent call last)",
      "Cell \u001b[1;32mIn[31], line 3\u001b[0m\n\u001b[0;32m      1\u001b[0m api_response \u001b[38;5;241m=\u001b[39m api_result\u001b[38;5;241m.\u001b[39mjson()\n\u001b[1;32m----> 3\u001b[0m \u001b[38;5;28;01mfor\u001b[39;00m flight \u001b[38;5;129;01min\u001b[39;00m api_response[\u001b[38;5;124m'\u001b[39m\u001b[38;5;124mresults\u001b[39m\u001b[38;5;124m'\u001b[39m]:\n\u001b[0;32m      4\u001b[0m     \u001b[38;5;28;01mif\u001b[39;00m (flight[\u001b[38;5;124m'\u001b[39m\u001b[38;5;124mlive\u001b[39m\u001b[38;5;124m'\u001b[39m][\u001b[38;5;124m'\u001b[39m\u001b[38;5;124mis_ground\u001b[39m\u001b[38;5;124m'\u001b[39m] \u001b[38;5;129;01mis\u001b[39;00m \u001b[38;5;28;01mFalse\u001b[39;00m):\n\u001b[0;32m      5\u001b[0m         \u001b[38;5;28mprint\u001b[39m(\u001b[38;5;124mu\u001b[39m\u001b[38;5;124m'\u001b[39m\u001b[38;5;132;01m%s\u001b[39;00m\u001b[38;5;124m flight \u001b[39m\u001b[38;5;132;01m%s\u001b[39;00m\u001b[38;5;124m from \u001b[39m\u001b[38;5;132;01m%s\u001b[39;00m\u001b[38;5;124m (\u001b[39m\u001b[38;5;132;01m%s\u001b[39;00m\u001b[38;5;124m) to \u001b[39m\u001b[38;5;132;01m%s\u001b[39;00m\u001b[38;5;124m (\u001b[39m\u001b[38;5;132;01m%s\u001b[39;00m\u001b[38;5;124m) is in the air.\u001b[39m\u001b[38;5;124m'\u001b[39m \u001b[38;5;241m%\u001b[39m (\n\u001b[0;32m      6\u001b[0m             flight[\u001b[38;5;124m'\u001b[39m\u001b[38;5;124mairline\u001b[39m\u001b[38;5;124m'\u001b[39m][\u001b[38;5;124m'\u001b[39m\u001b[38;5;124mname\u001b[39m\u001b[38;5;124m'\u001b[39m],\n\u001b[0;32m      7\u001b[0m             flight[\u001b[38;5;124m'\u001b[39m\u001b[38;5;124mflight\u001b[39m\u001b[38;5;124m'\u001b[39m][\u001b[38;5;124m'\u001b[39m\u001b[38;5;124miata\u001b[39m\u001b[38;5;124m'\u001b[39m],\n\u001b[1;32m   (...)\u001b[0m\n\u001b[0;32m     10\u001b[0m             flight[\u001b[38;5;124m'\u001b[39m\u001b[38;5;124marrival\u001b[39m\u001b[38;5;124m'\u001b[39m][\u001b[38;5;124m'\u001b[39m\u001b[38;5;124mairport\u001b[39m\u001b[38;5;124m'\u001b[39m],\n\u001b[0;32m     11\u001b[0m             flight[\u001b[38;5;124m'\u001b[39m\u001b[38;5;124marrival\u001b[39m\u001b[38;5;124m'\u001b[39m][\u001b[38;5;124m'\u001b[39m\u001b[38;5;124miata\u001b[39m\u001b[38;5;124m'\u001b[39m]))\n",
      "\u001b[1;31mKeyError\u001b[0m: 'results'"
     ]
    }
   ],
   "source": [
    "api_response = api_result.json()\n",
    "\n",
    "for flight in api_response['results']:\n",
    "    if (flight['live']['is_ground'] is False):\n",
    "        print(u'%s flight %s from %s (%s) to %s (%s) is in the air.' % (\n",
    "            flight['airline']['name'],\n",
    "            flight['flight']['iata'],\n",
    "            flight['departure']['airport'],\n",
    "            flight['departure']['iata'],\n",
    "            flight['arrival']['airport'],\n",
    "            flight['arrival']['iata']))"
   ]
  },
  {
   "cell_type": "code",
   "execution_count": null,
   "id": "7ccb912b",
   "metadata": {},
   "outputs": [],
   "source": []
  }
 ],
 "metadata": {
  "kernelspec": {
   "display_name": "Python 3 (ipykernel)",
   "language": "python",
   "name": "python3"
  },
  "language_info": {
   "codemirror_mode": {
    "name": "ipython",
    "version": 3
   },
   "file_extension": ".py",
   "mimetype": "text/x-python",
   "name": "python",
   "nbconvert_exporter": "python",
   "pygments_lexer": "ipython3",
   "version": "3.11.4"
  }
 },
 "nbformat": 4,
 "nbformat_minor": 5
}
